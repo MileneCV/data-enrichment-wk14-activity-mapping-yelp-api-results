{
 "cells": [
  {
   "cell_type": "markdown",
   "metadata": {
    "id": "8guYh-VR7nlX"
   },
   "source": [
    "# Part 1 - Extracting and Saving Data from Yelp API"
   ]
  },
  {
   "cell_type": "markdown",
   "metadata": {},
   "source": [
    "## Obective"
   ]
  },
  {
   "cell_type": "markdown",
   "metadata": {
    "id": "8guYh-VR7nlX"
   },
   "source": [
    "- For this CodeAlong, we will be working with the Yelp API. \n",
    "- You will use the the Yelp API to search your home town for a cuisine type of your choice.\n",
    "- Next class, we will then use Plotly Express to create a map with the Mapbox API to visualize the results.\n",
    "    \n",
    "    "
   ]
  },
  {
   "cell_type": "markdown",
   "metadata": {
    "id": "8guYh-VR7nlX"
   },
   "source": [
    "## Tools You Will Use\n",
    "- Part 1:\n",
    "    - Yelp API:\n",
    "        - Getting Started: \n",
    "            - https://www.yelp.com/developers/documentation/v3/get_started\n",
    "\n",
    "    - `YelpAPI` python package\n",
    "        -  \"YelpAPI\": https://github.com/gfairchild/yelpapi\n",
    "- Part 2:\n",
    "\n",
    "    - Plotly Express: https://plotly.com/python/getting-started/\n",
    "        - With Mapbox API: https://www.mapbox.com/\n",
    "        - `px.scatter_mapbox` [Documentation](https://plotly.com/python/scattermapbox/): \n",
    "\n",
    "\n"
   ]
  },
  {
   "cell_type": "markdown",
   "metadata": {},
   "source": [
    "### Applying Code From\n",
    "- Efficient API Calls Lesson Link: https://login.codingdojo.com/m/376/12529/88078"
   ]
  },
  {
   "cell_type": "code",
   "execution_count": 1,
   "metadata": {},
   "outputs": [],
   "source": [
    "# Standard Imports\n",
    "import numpy as np\n",
    "import pandas as pd\n",
    "import matplotlib.pyplot as plt\n",
    "import seaborn as sns\n",
    "\n",
    "# Additional Imports\n",
    "import os, json, math, time\n",
    "from yelpapi import YelpAPI\n",
    "from tqdm.notebook import tqdm_notebook"
   ]
  },
  {
   "cell_type": "code",
   "execution_count": 2,
   "metadata": {},
   "outputs": [
    {
     "name": "stdout",
     "output_type": "stream",
     "text": [
      "Requirement already satisfied: yelpapi in k:\\coding_dojo\\anaconda\\envs\\dojo-env\\lib\\site-packages (2.5.0)\n",
      "Requirement already satisfied: requests in k:\\coding_dojo\\anaconda\\envs\\dojo-env\\lib\\site-packages (from yelpapi) (2.28.1)\n",
      "Requirement already satisfied: charset-normalizer<3,>=2 in k:\\coding_dojo\\anaconda\\envs\\dojo-env\\lib\\site-packages (from requests->yelpapi) (2.0.4)\n",
      "Requirement already satisfied: idna<4,>=2.5 in k:\\coding_dojo\\anaconda\\envs\\dojo-env\\lib\\site-packages (from requests->yelpapi) (3.4)\n",
      "Requirement already satisfied: certifi>=2017.4.17 in k:\\coding_dojo\\anaconda\\envs\\dojo-env\\lib\\site-packages (from requests->yelpapi) (2022.9.24)\n",
      "Requirement already satisfied: urllib3<1.27,>=1.21.1 in k:\\coding_dojo\\anaconda\\envs\\dojo-env\\lib\\site-packages (from requests->yelpapi) (1.26.13)\n"
     ]
    }
   ],
   "source": [
    "!pip install yelpapi"
   ]
  },
  {
   "cell_type": "markdown",
   "metadata": {
    "id": "1l3Z-79nBSX9"
   },
   "source": [
    "## 1. Registering for Required APIs"
   ]
  },
  {
   "cell_type": "markdown",
   "metadata": {
    "id": "1l3Z-79nBSX9"
   },
   "source": [
    "\n",
    "- Yelp: https://www.yelp.com/developers/documentation/v3/get_started\n"
   ]
  },
  {
   "cell_type": "markdown",
   "metadata": {},
   "source": [
    "> Check the official API documentation to know what arguments we can search for: https://www.yelp.com/developers/documentation/v3/business_search"
   ]
  },
  {
   "cell_type": "markdown",
   "metadata": {},
   "source": [
    "### Load Credentials and Create Yelp API Object"
   ]
  },
  {
   "cell_type": "code",
   "execution_count": 3,
   "metadata": {
    "ExecuteTime": {
     "end_time": "2022-03-25T18:20:46.629934Z",
     "start_time": "2022-03-25T18:20:45.915864Z"
    },
    "colab": {
     "base_uri": "https://localhost:8080/"
    },
    "id": "xJYqVvNkE36a",
    "outputId": "67798160-dea2-41fc-9040-2b3833efa560"
   },
   "outputs": [
    {
     "data": {
      "text/plain": [
       "dict_keys(['client-id', 'api-key'])"
      ]
     },
     "execution_count": 3,
     "metadata": {},
     "output_type": "execute_result"
    }
   ],
   "source": [
    "# Load API Credentials\n",
    "import json\n",
    "with open('/Users/Ernesto/.secret/yelp_api.json') as f: #change the path to match YOUR path!!\n",
    "    login = json.load(f)\n",
    "login.keys()\n"
   ]
  },
  {
   "cell_type": "code",
   "execution_count": 4,
   "metadata": {},
   "outputs": [
    {
     "data": {
      "text/plain": [
       "<yelpapi.yelpapi.YelpAPI at 0x1b3a0eebbb0>"
      ]
     },
     "execution_count": 4,
     "metadata": {},
     "output_type": "execute_result"
    }
   ],
   "source": [
    "# Instantiate YelpAPI Variable\n",
    "yelp_api = YelpAPI(login['api-key'], timeout_s=5.0)\n",
    "yelp_api"
   ]
  },
  {
   "cell_type": "markdown",
   "metadata": {},
   "source": [
    "### Define Search Terms and File Paths"
   ]
  },
  {
   "cell_type": "code",
   "execution_count": 8,
   "metadata": {},
   "outputs": [],
   "source": [
    "# set our API call parameters and filename before the first call\n",
    "location = 'Seattle, WA 98122'\n",
    "term = 'pizza'"
   ]
  },
  {
   "cell_type": "code",
   "execution_count": 9,
   "metadata": {},
   "outputs": [],
   "source": [
    "## Specify fodler for saving data\n",
    "folder  = 'Data/'\n",
    "os.makedirs(folder, exist_ok = True)\n",
    "\n"
   ]
  },
  {
   "cell_type": "code",
   "execution_count": 13,
   "metadata": {},
   "outputs": [
    {
     "data": {
      "text/plain": [
       "'Seattle'"
      ]
     },
     "execution_count": 13,
     "metadata": {},
     "output_type": "execute_result"
    }
   ],
   "source": [
    "location.split(',')[0]"
   ]
  },
  {
   "cell_type": "code",
   "execution_count": 12,
   "metadata": {},
   "outputs": [],
   "source": [
    "# Specifying JSON_FILE filename (can include a folder)\n",
    "JSON_FILE = folder+f\"{location.split(',')[0]} - {term}.json\""
   ]
  },
  {
   "cell_type": "code",
   "execution_count": 14,
   "metadata": {},
   "outputs": [
    {
     "data": {
      "text/plain": [
       "'Data/Seattle - pizza.json'"
      ]
     },
     "execution_count": 14,
     "metadata": {},
     "output_type": "execute_result"
    }
   ],
   "source": [
    "JSON_FILE"
   ]
  },
  {
   "cell_type": "markdown",
   "metadata": {},
   "source": [
    "### Check if Json File exists and Create it if it doesn't"
   ]
  },
  {
   "cell_type": "code",
   "execution_count": 24,
   "metadata": {},
   "outputs": [
    {
     "name": "stdout",
     "output_type": "stream",
     "text": [
      "[i] Data/Seattle - pizza.json already exists.\n"
     ]
    }
   ],
   "source": [
    "## Check if JSON_FILE exists\n",
    "file_exists = os.path.isfile(JSON_FILE)\n",
    "## If it does not exist: \n",
    "if file_exists == False:\n",
    "    \n",
    "    ## CREATE ANY NEEDED FOLDERS\n",
    "    # Get the Folder Name only\n",
    "    folder = os.path.dirname(JSON_FILE)\n",
    "\n",
    "    \n",
    "    ## If JSON_FILE included a folder:\n",
    "    if len(folder) > 0:\n",
    "        # create the folder\n",
    "        os.makedirs(folder, exist_ok =True)\n",
    "\n",
    "        \n",
    "        \n",
    "    ## INFORM USER AND SAVE EMPTY LIST\n",
    "    print(f'[i]{JSON_FILE} not found.Saving empty list to file')\n",
    "\n",
    "    \n",
    "    \n",
    "    ## save the first page of results\n",
    "    with open (JSON_FILE, 'w') as f:\n",
    "        json.dump([], f)\n",
    "\n",
    "        \n",
    "## If it exists, inform user\n",
    "else:\n",
    "    print(f'[i] {JSON_FILE} already exists.')"
   ]
  },
  {
   "cell_type": "markdown",
   "metadata": {},
   "source": [
    "### Load JSON FIle and account for previous results"
   ]
  },
  {
   "cell_type": "code",
   "execution_count": null,
   "metadata": {},
   "outputs": [],
   "source": [
    "## Load previous results and use len of results for offset\n",
    "\n",
    "## set offset based on previous results\n"
   ]
  },
  {
   "cell_type": "markdown",
   "metadata": {},
   "source": [
    "### Make the first API call to get the first page of data"
   ]
  },
  {
   "cell_type": "markdown",
   "metadata": {},
   "source": [
    "- We will use this first result to check:\n",
    "    - how many total results there are?\n",
    "    - Where is the actual data we want to save?\n",
    "    - how many results do we get at a time?\n"
   ]
  },
  {
   "cell_type": "code",
   "execution_count": 27,
   "metadata": {},
   "outputs": [],
   "source": [
    "# use our yelp_api variable's search_query method to perform our API call\n",
    "results = yelp_api.search_query(term=term, location = location)"
   ]
  },
  {
   "cell_type": "code",
   "execution_count": 28,
   "metadata": {},
   "outputs": [
    {
     "data": {
      "text/plain": [
       "dict"
      ]
     },
     "execution_count": 28,
     "metadata": {},
     "output_type": "execute_result"
    }
   ],
   "source": [
    "type(results)"
   ]
  },
  {
   "cell_type": "code",
   "execution_count": 29,
   "metadata": {
    "ExecuteTime": {
     "end_time": "2022-03-24T20:01:48.867510Z",
     "start_time": "2022-03-24T20:01:48.854746Z"
    },
    "colab": {
     "base_uri": "https://localhost:8080/"
    },
    "id": "Myur3i1KGhPf",
    "outputId": "f447c6f9-596b-41d0-ccda-50af0ce82108"
   },
   "outputs": [
    {
     "data": {
      "text/plain": [
       "3"
      ]
     },
     "execution_count": 29,
     "metadata": {},
     "output_type": "execute_result"
    }
   ],
   "source": [
    "## How many results total?\n",
    "len(results)"
   ]
  },
  {
   "cell_type": "code",
   "execution_count": 30,
   "metadata": {},
   "outputs": [
    {
     "data": {
      "text/plain": [
       "dict_keys(['businesses', 'total', 'region'])"
      ]
     },
     "execution_count": 30,
     "metadata": {},
     "output_type": "execute_result"
    }
   ],
   "source": [
    "results.keys()"
   ]
  },
  {
   "cell_type": "code",
   "execution_count": 31,
   "metadata": {},
   "outputs": [
    {
     "data": {
      "text/plain": [
       "{'id': 'M9xzvwgK58T0w7wvXedvuQ',\n",
       " 'alias': 'hot-mamas-pizza-seattle',\n",
       " 'name': \"Hot Mama's Pizza\",\n",
       " 'image_url': 'https://s3-media4.fl.yelpcdn.com/bphoto/LEL1qjUtdXO8aUPV9U-WwQ/o.jpg',\n",
       " 'is_closed': False,\n",
       " 'url': 'https://www.yelp.com/biz/hot-mamas-pizza-seattle?adjust_creative=uZlWmDEnFx_32JwPA40yHA&utm_campaign=yelp_api_v3&utm_medium=api_v3_business_search&utm_source=uZlWmDEnFx_32JwPA40yHA',\n",
       " 'review_count': 960,\n",
       " 'categories': [{'alias': 'pizza', 'title': 'Pizza'}],\n",
       " 'rating': 4.0,\n",
       " 'coordinates': {'latitude': 47.615379179632, 'longitude': -122.32323073437},\n",
       " 'transactions': ['delivery'],\n",
       " 'price': '$',\n",
       " 'location': {'address1': '700 E Pine St',\n",
       "  'address2': '',\n",
       "  'address3': '',\n",
       "  'city': 'Seattle',\n",
       "  'zip_code': '98122',\n",
       "  'country': 'US',\n",
       "  'state': 'WA',\n",
       "  'display_address': ['700 E Pine St', 'Seattle, WA 98122']},\n",
       " 'phone': '+12063226444',\n",
       " 'display_phone': '(206) 322-6444',\n",
       " 'distance': 2080.359405276959}"
      ]
     },
     "execution_count": 31,
     "metadata": {},
     "output_type": "execute_result"
    }
   ],
   "source": [
    "results['businesses'][0]"
   ]
  },
  {
   "cell_type": "code",
   "execution_count": 32,
   "metadata": {},
   "outputs": [
    {
     "data": {
      "text/plain": [
       "859"
      ]
     },
     "execution_count": 32,
     "metadata": {},
     "output_type": "execute_result"
    }
   ],
   "source": [
    "results['total']"
   ]
  },
  {
   "cell_type": "code",
   "execution_count": 34,
   "metadata": {},
   "outputs": [
    {
     "data": {
      "text/html": [
       "<div>\n",
       "<style scoped>\n",
       "    .dataframe tbody tr th:only-of-type {\n",
       "        vertical-align: middle;\n",
       "    }\n",
       "\n",
       "    .dataframe tbody tr th {\n",
       "        vertical-align: top;\n",
       "    }\n",
       "\n",
       "    .dataframe thead th {\n",
       "        text-align: right;\n",
       "    }\n",
       "</style>\n",
       "<table border=\"1\" class=\"dataframe\">\n",
       "  <thead>\n",
       "    <tr style=\"text-align: right;\">\n",
       "      <th></th>\n",
       "      <th>id</th>\n",
       "      <th>alias</th>\n",
       "      <th>name</th>\n",
       "      <th>image_url</th>\n",
       "      <th>is_closed</th>\n",
       "      <th>url</th>\n",
       "      <th>review_count</th>\n",
       "      <th>categories</th>\n",
       "      <th>rating</th>\n",
       "      <th>coordinates</th>\n",
       "      <th>transactions</th>\n",
       "      <th>price</th>\n",
       "      <th>location</th>\n",
       "      <th>phone</th>\n",
       "      <th>display_phone</th>\n",
       "      <th>distance</th>\n",
       "    </tr>\n",
       "  </thead>\n",
       "  <tbody>\n",
       "    <tr>\n",
       "      <th>0</th>\n",
       "      <td>M9xzvwgK58T0w7wvXedvuQ</td>\n",
       "      <td>hot-mamas-pizza-seattle</td>\n",
       "      <td>Hot Mama's Pizza</td>\n",
       "      <td>https://s3-media4.fl.yelpcdn.com/bphoto/LEL1qj...</td>\n",
       "      <td>False</td>\n",
       "      <td>https://www.yelp.com/biz/hot-mamas-pizza-seatt...</td>\n",
       "      <td>960</td>\n",
       "      <td>[{'alias': 'pizza', 'title': 'Pizza'}]</td>\n",
       "      <td>4.0</td>\n",
       "      <td>{'latitude': 47.615379179632, 'longitude': -12...</td>\n",
       "      <td>[delivery]</td>\n",
       "      <td>$</td>\n",
       "      <td>{'address1': '700 E Pine St', 'address2': '', ...</td>\n",
       "      <td>+12063226444</td>\n",
       "      <td>(206) 322-6444</td>\n",
       "      <td>2080.359405</td>\n",
       "    </tr>\n",
       "    <tr>\n",
       "      <th>1</th>\n",
       "      <td>t-Z9bvmlgUyDtomGmttrUQ</td>\n",
       "      <td>guerilla-pizza-kitchen-seattle</td>\n",
       "      <td>Guerilla Pizza Kitchen</td>\n",
       "      <td>https://s3-media4.fl.yelpcdn.com/bphoto/uMrdEj...</td>\n",
       "      <td>False</td>\n",
       "      <td>https://www.yelp.com/biz/guerilla-pizza-kitche...</td>\n",
       "      <td>1</td>\n",
       "      <td>[{'alias': 'pizza', 'title': 'Pizza'}, {'alias...</td>\n",
       "      <td>5.0</td>\n",
       "      <td>{'latitude': 47.608127, 'longitude': -122.302435}</td>\n",
       "      <td>[]</td>\n",
       "      <td>NaN</td>\n",
       "      <td>{'address1': '2300 E Cherry St', 'address2': '...</td>\n",
       "      <td></td>\n",
       "      <td></td>\n",
       "      <td>749.173113</td>\n",
       "    </tr>\n",
       "    <tr>\n",
       "      <th>2</th>\n",
       "      <td>EwrAoy7XbX8nfemZdDvupA</td>\n",
       "      <td>cornelly-seattle</td>\n",
       "      <td>Cornelly</td>\n",
       "      <td>https://s3-media4.fl.yelpcdn.com/bphoto/HlYYBT...</td>\n",
       "      <td>False</td>\n",
       "      <td>https://www.yelp.com/biz/cornelly-seattle?adju...</td>\n",
       "      <td>99</td>\n",
       "      <td>[{'alias': 'pizza', 'title': 'Pizza'}, {'alias...</td>\n",
       "      <td>4.5</td>\n",
       "      <td>{'latitude': 47.624577, 'longitude': -122.325577}</td>\n",
       "      <td>[delivery, pickup]</td>\n",
       "      <td>NaN</td>\n",
       "      <td>{'address1': '601 Summit Ave E', 'address2': '...</td>\n",
       "      <td></td>\n",
       "      <td></td>\n",
       "      <td>2578.701393</td>\n",
       "    </tr>\n",
       "    <tr>\n",
       "      <th>3</th>\n",
       "      <td>FVbwpNA1uZEGiM02N4XtUg</td>\n",
       "      <td>blotto-seattle</td>\n",
       "      <td>Blotto</td>\n",
       "      <td>https://s3-media3.fl.yelpcdn.com/bphoto/Q4Y1Cw...</td>\n",
       "      <td>False</td>\n",
       "      <td>https://www.yelp.com/biz/blotto-seattle?adjust...</td>\n",
       "      <td>40</td>\n",
       "      <td>[{'alias': 'pizza', 'title': 'Pizza'}]</td>\n",
       "      <td>4.5</td>\n",
       "      <td>{'latitude': 47.61849, 'longitude': -122.31664}</td>\n",
       "      <td>[]</td>\n",
       "      <td>NaN</td>\n",
       "      <td>{'address1': '1830 12th Ave', 'address2': '', ...</td>\n",
       "      <td>+12064031809</td>\n",
       "      <td>(206) 403-1809</td>\n",
       "      <td>1686.862176</td>\n",
       "    </tr>\n",
       "    <tr>\n",
       "      <th>4</th>\n",
       "      <td>IrohtoYjnAR_vc6w6CRCxA</td>\n",
       "      <td>moto-seattle</td>\n",
       "      <td>Moto</td>\n",
       "      <td>https://s3-media2.fl.yelpcdn.com/bphoto/FBmvjy...</td>\n",
       "      <td>False</td>\n",
       "      <td>https://www.yelp.com/biz/moto-seattle?adjust_c...</td>\n",
       "      <td>137</td>\n",
       "      <td>[{'alias': 'pizza', 'title': 'Pizza'}, {'alias...</td>\n",
       "      <td>4.5</td>\n",
       "      <td>{'latitude': 47.56207, 'longitude': -122.38509}</td>\n",
       "      <td>[delivery]</td>\n",
       "      <td>$$</td>\n",
       "      <td>{'address1': '4526 42nd Ave SW', 'address2': '...</td>\n",
       "      <td>+12064208880</td>\n",
       "      <td>(206) 420-8880</td>\n",
       "      <td>8784.075722</td>\n",
       "    </tr>\n",
       "    <tr>\n",
       "      <th>5</th>\n",
       "      <td>Wi6LFkjIausYj277ru6pqg</td>\n",
       "      <td>humble-pie-seattle</td>\n",
       "      <td>Humble Pie</td>\n",
       "      <td>https://s3-media4.fl.yelpcdn.com/bphoto/A08GOZ...</td>\n",
       "      <td>False</td>\n",
       "      <td>https://www.yelp.com/biz/humble-pie-seattle?ad...</td>\n",
       "      <td>360</td>\n",
       "      <td>[{'alias': 'pizza', 'title': 'Pizza'}]</td>\n",
       "      <td>4.0</td>\n",
       "      <td>{'latitude': 47.5976491915013, 'longitude': -1...</td>\n",
       "      <td>[delivery]</td>\n",
       "      <td>$$</td>\n",
       "      <td>{'address1': '525 Rainier Ave S', 'address2': ...</td>\n",
       "      <td>+12063295133</td>\n",
       "      <td>(206) 329-5133</td>\n",
       "      <td>2166.834011</td>\n",
       "    </tr>\n",
       "    <tr>\n",
       "      <th>6</th>\n",
       "      <td>fxyHWmfzcdjImgQ_UYHoTw</td>\n",
       "      <td>bar-cotto-seattle</td>\n",
       "      <td>Bar Cotto</td>\n",
       "      <td>https://s3-media3.fl.yelpcdn.com/bphoto/07DoPF...</td>\n",
       "      <td>False</td>\n",
       "      <td>https://www.yelp.com/biz/bar-cotto-seattle?adj...</td>\n",
       "      <td>340</td>\n",
       "      <td>[{'alias': 'bars', 'title': 'Bars'}, {'alias':...</td>\n",
       "      <td>4.5</td>\n",
       "      <td>{'latitude': 47.6146934, 'longitude': -122.312...</td>\n",
       "      <td>[delivery, pickup]</td>\n",
       "      <td>$$</td>\n",
       "      <td>{'address1': '1546 15th Ave', 'address2': '', ...</td>\n",
       "      <td>+12068388081</td>\n",
       "      <td>(206) 838-8081</td>\n",
       "      <td>1292.526796</td>\n",
       "    </tr>\n",
       "    <tr>\n",
       "      <th>7</th>\n",
       "      <td>et4eWK49x5od4lfqCukG6w</td>\n",
       "      <td>central-pizza-seattle</td>\n",
       "      <td>Central Pizza</td>\n",
       "      <td>https://s3-media4.fl.yelpcdn.com/bphoto/DE4G4e...</td>\n",
       "      <td>False</td>\n",
       "      <td>https://www.yelp.com/biz/central-pizza-seattle...</td>\n",
       "      <td>203</td>\n",
       "      <td>[{'alias': 'bars', 'title': 'Bars'}, {'alias':...</td>\n",
       "      <td>4.0</td>\n",
       "      <td>{'latitude': 47.598976, 'longitude': -122.294685}</td>\n",
       "      <td>[pickup, delivery]</td>\n",
       "      <td>$$</td>\n",
       "      <td>{'address1': '2901 S Jackson St', 'address2': ...</td>\n",
       "      <td>+12066026333</td>\n",
       "      <td>(206) 602-6333</td>\n",
       "      <td>1571.867438</td>\n",
       "    </tr>\n",
       "    <tr>\n",
       "      <th>8</th>\n",
       "      <td>cAFXng3Gr1cBCFkP1VIxng</td>\n",
       "      <td>the-independent-pizzeria-seattle-2</td>\n",
       "      <td>The Independent Pizzeria</td>\n",
       "      <td>https://s3-media4.fl.yelpcdn.com/bphoto/4gIuis...</td>\n",
       "      <td>False</td>\n",
       "      <td>https://www.yelp.com/biz/the-independent-pizze...</td>\n",
       "      <td>180</td>\n",
       "      <td>[{'alias': 'pizza', 'title': 'Pizza'}, {'alias...</td>\n",
       "      <td>4.0</td>\n",
       "      <td>{'latitude': 47.636044, 'longitude': -122.277377}</td>\n",
       "      <td>[delivery]</td>\n",
       "      <td>$$</td>\n",
       "      <td>{'address1': '4235 E Madison St', 'address2': ...</td>\n",
       "      <td>+12068606110</td>\n",
       "      <td>(206) 860-6110</td>\n",
       "      <td>2897.252844</td>\n",
       "    </tr>\n",
       "    <tr>\n",
       "      <th>9</th>\n",
       "      <td>GJdmwqqkC0nAQfX1qZM3ew</td>\n",
       "      <td>olympia-pizza-and-spaghetti-house-iii-seattle</td>\n",
       "      <td>Olympia Pizza and Spaghetti House III</td>\n",
       "      <td>https://s3-media1.fl.yelpcdn.com/bphoto/KvTgMA...</td>\n",
       "      <td>False</td>\n",
       "      <td>https://www.yelp.com/biz/olympia-pizza-and-spa...</td>\n",
       "      <td>296</td>\n",
       "      <td>[{'alias': 'pizza', 'title': 'Pizza'}, {'alias...</td>\n",
       "      <td>4.0</td>\n",
       "      <td>{'latitude': 47.62383, 'longitude': -122.312445}</td>\n",
       "      <td>[delivery]</td>\n",
       "      <td>$$</td>\n",
       "      <td>{'address1': '516 15th Ave E', 'address2': '',...</td>\n",
       "      <td>+12063294500</td>\n",
       "      <td>(206) 329-4500</td>\n",
       "      <td>1732.874383</td>\n",
       "    </tr>\n",
       "    <tr>\n",
       "      <th>10</th>\n",
       "      <td>wi-mbKEz4Ha1YYaOB8zHnw</td>\n",
       "      <td>kōbo-pizza-seattle</td>\n",
       "      <td>Kōbo Pizza</td>\n",
       "      <td>https://s3-media1.fl.yelpcdn.com/bphoto/6et4T9...</td>\n",
       "      <td>False</td>\n",
       "      <td>https://www.yelp.com/biz/k%C5%8Dbo-pizza-seatt...</td>\n",
       "      <td>31</td>\n",
       "      <td>[{'alias': 'pizza', 'title': 'Pizza'}]</td>\n",
       "      <td>4.0</td>\n",
       "      <td>{'latitude': 47.6144, 'longitude': -122.32271}</td>\n",
       "      <td>[]</td>\n",
       "      <td>NaN</td>\n",
       "      <td>{'address1': '714 E Pike St', 'address2': None...</td>\n",
       "      <td>+12536930207</td>\n",
       "      <td>(253) 693-0207</td>\n",
       "      <td>2025.139396</td>\n",
       "    </tr>\n",
       "    <tr>\n",
       "      <th>11</th>\n",
       "      <td>Ss_66zV-zhK_57_6MgV93w</td>\n",
       "      <td>aglio-e-olio-seattle</td>\n",
       "      <td>Aglio e Olio</td>\n",
       "      <td>https://s3-media2.fl.yelpcdn.com/bphoto/inrSl1...</td>\n",
       "      <td>False</td>\n",
       "      <td>https://www.yelp.com/biz/aglio-e-olio-seattle?...</td>\n",
       "      <td>272</td>\n",
       "      <td>[{'alias': 'italian', 'title': 'Italian'}, {'a...</td>\n",
       "      <td>4.5</td>\n",
       "      <td>{'latitude': 47.62328027309258, 'longitude': -...</td>\n",
       "      <td>[delivery]</td>\n",
       "      <td>$$</td>\n",
       "      <td>{'address1': '2743 E Madison St', 'address2': ...</td>\n",
       "      <td></td>\n",
       "      <td></td>\n",
       "      <td>1132.743207</td>\n",
       "    </tr>\n",
       "    <tr>\n",
       "      <th>12</th>\n",
       "      <td>k3riaoflafifFUSNKXbfTw</td>\n",
       "      <td>via-tribunali-capitol-hill-seattle</td>\n",
       "      <td>Via Tribunali - Capitol Hill</td>\n",
       "      <td>https://s3-media4.fl.yelpcdn.com/bphoto/8nqcG7...</td>\n",
       "      <td>False</td>\n",
       "      <td>https://www.yelp.com/biz/via-tribunali-capitol...</td>\n",
       "      <td>627</td>\n",
       "      <td>[{'alias': 'pizza', 'title': 'Pizza'}, {'alias...</td>\n",
       "      <td>4.0</td>\n",
       "      <td>{'latitude': 47.61386, 'longitude': -122.31986}</td>\n",
       "      <td>[delivery, pickup]</td>\n",
       "      <td>$$</td>\n",
       "      <td>{'address1': '913 E Pike St', 'address2': '', ...</td>\n",
       "      <td>+12063229234</td>\n",
       "      <td>(206) 322-9234</td>\n",
       "      <td>1818.629179</td>\n",
       "    </tr>\n",
       "    <tr>\n",
       "      <th>13</th>\n",
       "      <td>HeJP0ZS0tCCn-X9ezYSz3g</td>\n",
       "      <td>ian-s-pizza-on-the-hill-seattle</td>\n",
       "      <td>Ian’s Pizza on the Hill</td>\n",
       "      <td>https://s3-media1.fl.yelpcdn.com/bphoto/gD-SKu...</td>\n",
       "      <td>False</td>\n",
       "      <td>https://www.yelp.com/biz/ian-s-pizza-on-the-hi...</td>\n",
       "      <td>297</td>\n",
       "      <td>[{'alias': 'pizza', 'title': 'Pizza'}, {'alias...</td>\n",
       "      <td>4.0</td>\n",
       "      <td>{'latitude': 47.615894, 'longitude': -122.320476}</td>\n",
       "      <td>[pickup, delivery]</td>\n",
       "      <td>$</td>\n",
       "      <td>{'address1': '1620 Broadway', 'address2': '', ...</td>\n",
       "      <td>+12066594721</td>\n",
       "      <td>(206) 659-4721</td>\n",
       "      <td>1884.178031</td>\n",
       "    </tr>\n",
       "    <tr>\n",
       "      <th>14</th>\n",
       "      <td>kVqwgAjEPffEyMJSzpfM_A</td>\n",
       "      <td>pagliacci-pizza-seattle-26</td>\n",
       "      <td>Pagliacci Pizza</td>\n",
       "      <td>https://s3-media3.fl.yelpcdn.com/bphoto/7thHN-...</td>\n",
       "      <td>False</td>\n",
       "      <td>https://www.yelp.com/biz/pagliacci-pizza-seatt...</td>\n",
       "      <td>98</td>\n",
       "      <td>[{'alias': 'pizza', 'title': 'Pizza'}]</td>\n",
       "      <td>3.5</td>\n",
       "      <td>{'latitude': 47.6254949, 'longitude': -122.292...</td>\n",
       "      <td>[delivery]</td>\n",
       "      <td>$$</td>\n",
       "      <td>{'address1': '3015 E Madison St', 'address2': ...</td>\n",
       "      <td>+12067261717</td>\n",
       "      <td>(206) 726-1717</td>\n",
       "      <td>1395.266332</td>\n",
       "    </tr>\n",
       "    <tr>\n",
       "      <th>15</th>\n",
       "      <td>zLkXptYijBI6Nm9WNEq3hQ</td>\n",
       "      <td>dinos-tomato-pie-seattle</td>\n",
       "      <td>Dino's Tomato Pie</td>\n",
       "      <td>https://s3-media1.fl.yelpcdn.com/bphoto/EwjUjo...</td>\n",
       "      <td>False</td>\n",
       "      <td>https://www.yelp.com/biz/dinos-tomato-pie-seat...</td>\n",
       "      <td>305</td>\n",
       "      <td>[{'alias': 'pizza', 'title': 'Pizza'}, {'alias...</td>\n",
       "      <td>3.5</td>\n",
       "      <td>{'latitude': 47.61839, 'longitude': -122.32593}</td>\n",
       "      <td>[pickup, delivery]</td>\n",
       "      <td>$$</td>\n",
       "      <td>{'address1': '1524 E Olive Way', 'address2': N...</td>\n",
       "      <td>+12064031742</td>\n",
       "      <td>(206) 403-1742</td>\n",
       "      <td>2349.272428</td>\n",
       "    </tr>\n",
       "    <tr>\n",
       "      <th>16</th>\n",
       "      <td>1rkgyfwzXG7qSdVZdfRt7g</td>\n",
       "      <td>roccos-seattle</td>\n",
       "      <td>Rocco's</td>\n",
       "      <td>https://s3-media3.fl.yelpcdn.com/bphoto/AWBXTE...</td>\n",
       "      <td>False</td>\n",
       "      <td>https://www.yelp.com/biz/roccos-seattle?adjust...</td>\n",
       "      <td>1741</td>\n",
       "      <td>[{'alias': 'bars', 'title': 'Bars'}, {'alias':...</td>\n",
       "      <td>4.0</td>\n",
       "      <td>{'latitude': 47.614470434736106, 'longitude': ...</td>\n",
       "      <td>[delivery, pickup]</td>\n",
       "      <td>$$</td>\n",
       "      <td>{'address1': '2312 2nd Ave', 'address2': '', '...</td>\n",
       "      <td>+12063974210</td>\n",
       "      <td>(206) 397-4210</td>\n",
       "      <td>3779.508800</td>\n",
       "    </tr>\n",
       "    <tr>\n",
       "      <th>17</th>\n",
       "      <td>-FOAQv22SXtSBs7nptI3UA</td>\n",
       "      <td>serious-pie-downtown-seattle-2</td>\n",
       "      <td>Serious Pie Downtown</td>\n",
       "      <td>https://s3-media2.fl.yelpcdn.com/bphoto/dy0pJ5...</td>\n",
       "      <td>False</td>\n",
       "      <td>https://www.yelp.com/biz/serious-pie-downtown-...</td>\n",
       "      <td>4475</td>\n",
       "      <td>[{'alias': 'pizza', 'title': 'Pizza'}, {'alias...</td>\n",
       "      <td>4.0</td>\n",
       "      <td>{'latitude': 47.61304626911818, 'longitude': -...</td>\n",
       "      <td>[delivery, pickup]</td>\n",
       "      <td>$$</td>\n",
       "      <td>{'address1': '2001 4th Ave', 'address2': None,...</td>\n",
       "      <td>+12068387388</td>\n",
       "      <td>(206) 838-7388</td>\n",
       "      <td>3348.309276</td>\n",
       "    </tr>\n",
       "    <tr>\n",
       "      <th>18</th>\n",
       "      <td>ugTsEtjvwRhteac_6JcuPw</td>\n",
       "      <td>italian-family-pizza-seattle</td>\n",
       "      <td>Italian Family Pizza</td>\n",
       "      <td>https://s3-media2.fl.yelpcdn.com/bphoto/SgiSrJ...</td>\n",
       "      <td>False</td>\n",
       "      <td>https://www.yelp.com/biz/italian-family-pizza-...</td>\n",
       "      <td>999</td>\n",
       "      <td>[{'alias': 'pizza', 'title': 'Pizza'}, {'alias...</td>\n",
       "      <td>4.0</td>\n",
       "      <td>{'latitude': 47.60937, 'longitude': -122.32546}</td>\n",
       "      <td>[delivery, pickup]</td>\n",
       "      <td>$$</td>\n",
       "      <td>{'address1': '1028 Madison St', 'address2': No...</td>\n",
       "      <td>+12065380040</td>\n",
       "      <td>(206) 538-0040</td>\n",
       "      <td>2271.307105</td>\n",
       "    </tr>\n",
       "    <tr>\n",
       "      <th>19</th>\n",
       "      <td>JgBVV2UhZjfzykxoLPvIpA</td>\n",
       "      <td>big-marios-new-york-style-pizza-seattle-3</td>\n",
       "      <td>Big Mario's New York Style Pizza</td>\n",
       "      <td>https://s3-media4.fl.yelpcdn.com/bphoto/tAypGo...</td>\n",
       "      <td>False</td>\n",
       "      <td>https://www.yelp.com/biz/big-marios-new-york-s...</td>\n",
       "      <td>629</td>\n",
       "      <td>[{'alias': 'pizza', 'title': 'Pizza'}]</td>\n",
       "      <td>3.5</td>\n",
       "      <td>{'latitude': 47.61376, 'longitude': -122.31886}</td>\n",
       "      <td>[pickup, delivery]</td>\n",
       "      <td>$</td>\n",
       "      <td>{'address1': '1009 E Pike St', 'address2': '',...</td>\n",
       "      <td>+12069223875</td>\n",
       "      <td>(206) 922-3875</td>\n",
       "      <td>1732.560519</td>\n",
       "    </tr>\n",
       "  </tbody>\n",
       "</table>\n",
       "</div>"
      ],
      "text/plain": [
       "                        id                                          alias  \\\n",
       "0   M9xzvwgK58T0w7wvXedvuQ                        hot-mamas-pizza-seattle   \n",
       "1   t-Z9bvmlgUyDtomGmttrUQ                 guerilla-pizza-kitchen-seattle   \n",
       "2   EwrAoy7XbX8nfemZdDvupA                               cornelly-seattle   \n",
       "3   FVbwpNA1uZEGiM02N4XtUg                                 blotto-seattle   \n",
       "4   IrohtoYjnAR_vc6w6CRCxA                                   moto-seattle   \n",
       "5   Wi6LFkjIausYj277ru6pqg                             humble-pie-seattle   \n",
       "6   fxyHWmfzcdjImgQ_UYHoTw                              bar-cotto-seattle   \n",
       "7   et4eWK49x5od4lfqCukG6w                          central-pizza-seattle   \n",
       "8   cAFXng3Gr1cBCFkP1VIxng             the-independent-pizzeria-seattle-2   \n",
       "9   GJdmwqqkC0nAQfX1qZM3ew  olympia-pizza-and-spaghetti-house-iii-seattle   \n",
       "10  wi-mbKEz4Ha1YYaOB8zHnw                             kōbo-pizza-seattle   \n",
       "11  Ss_66zV-zhK_57_6MgV93w                           aglio-e-olio-seattle   \n",
       "12  k3riaoflafifFUSNKXbfTw             via-tribunali-capitol-hill-seattle   \n",
       "13  HeJP0ZS0tCCn-X9ezYSz3g                ian-s-pizza-on-the-hill-seattle   \n",
       "14  kVqwgAjEPffEyMJSzpfM_A                     pagliacci-pizza-seattle-26   \n",
       "15  zLkXptYijBI6Nm9WNEq3hQ                       dinos-tomato-pie-seattle   \n",
       "16  1rkgyfwzXG7qSdVZdfRt7g                                 roccos-seattle   \n",
       "17  -FOAQv22SXtSBs7nptI3UA                 serious-pie-downtown-seattle-2   \n",
       "18  ugTsEtjvwRhteac_6JcuPw                   italian-family-pizza-seattle   \n",
       "19  JgBVV2UhZjfzykxoLPvIpA      big-marios-new-york-style-pizza-seattle-3   \n",
       "\n",
       "                                     name  \\\n",
       "0                        Hot Mama's Pizza   \n",
       "1                  Guerilla Pizza Kitchen   \n",
       "2                                Cornelly   \n",
       "3                                  Blotto   \n",
       "4                                    Moto   \n",
       "5                              Humble Pie   \n",
       "6                               Bar Cotto   \n",
       "7                           Central Pizza   \n",
       "8                The Independent Pizzeria   \n",
       "9   Olympia Pizza and Spaghetti House III   \n",
       "10                             Kōbo Pizza   \n",
       "11                           Aglio e Olio   \n",
       "12           Via Tribunali - Capitol Hill   \n",
       "13                Ian’s Pizza on the Hill   \n",
       "14                        Pagliacci Pizza   \n",
       "15                      Dino's Tomato Pie   \n",
       "16                                Rocco's   \n",
       "17                   Serious Pie Downtown   \n",
       "18                   Italian Family Pizza   \n",
       "19       Big Mario's New York Style Pizza   \n",
       "\n",
       "                                            image_url  is_closed  \\\n",
       "0   https://s3-media4.fl.yelpcdn.com/bphoto/LEL1qj...      False   \n",
       "1   https://s3-media4.fl.yelpcdn.com/bphoto/uMrdEj...      False   \n",
       "2   https://s3-media4.fl.yelpcdn.com/bphoto/HlYYBT...      False   \n",
       "3   https://s3-media3.fl.yelpcdn.com/bphoto/Q4Y1Cw...      False   \n",
       "4   https://s3-media2.fl.yelpcdn.com/bphoto/FBmvjy...      False   \n",
       "5   https://s3-media4.fl.yelpcdn.com/bphoto/A08GOZ...      False   \n",
       "6   https://s3-media3.fl.yelpcdn.com/bphoto/07DoPF...      False   \n",
       "7   https://s3-media4.fl.yelpcdn.com/bphoto/DE4G4e...      False   \n",
       "8   https://s3-media4.fl.yelpcdn.com/bphoto/4gIuis...      False   \n",
       "9   https://s3-media1.fl.yelpcdn.com/bphoto/KvTgMA...      False   \n",
       "10  https://s3-media1.fl.yelpcdn.com/bphoto/6et4T9...      False   \n",
       "11  https://s3-media2.fl.yelpcdn.com/bphoto/inrSl1...      False   \n",
       "12  https://s3-media4.fl.yelpcdn.com/bphoto/8nqcG7...      False   \n",
       "13  https://s3-media1.fl.yelpcdn.com/bphoto/gD-SKu...      False   \n",
       "14  https://s3-media3.fl.yelpcdn.com/bphoto/7thHN-...      False   \n",
       "15  https://s3-media1.fl.yelpcdn.com/bphoto/EwjUjo...      False   \n",
       "16  https://s3-media3.fl.yelpcdn.com/bphoto/AWBXTE...      False   \n",
       "17  https://s3-media2.fl.yelpcdn.com/bphoto/dy0pJ5...      False   \n",
       "18  https://s3-media2.fl.yelpcdn.com/bphoto/SgiSrJ...      False   \n",
       "19  https://s3-media4.fl.yelpcdn.com/bphoto/tAypGo...      False   \n",
       "\n",
       "                                                  url  review_count  \\\n",
       "0   https://www.yelp.com/biz/hot-mamas-pizza-seatt...           960   \n",
       "1   https://www.yelp.com/biz/guerilla-pizza-kitche...             1   \n",
       "2   https://www.yelp.com/biz/cornelly-seattle?adju...            99   \n",
       "3   https://www.yelp.com/biz/blotto-seattle?adjust...            40   \n",
       "4   https://www.yelp.com/biz/moto-seattle?adjust_c...           137   \n",
       "5   https://www.yelp.com/biz/humble-pie-seattle?ad...           360   \n",
       "6   https://www.yelp.com/biz/bar-cotto-seattle?adj...           340   \n",
       "7   https://www.yelp.com/biz/central-pizza-seattle...           203   \n",
       "8   https://www.yelp.com/biz/the-independent-pizze...           180   \n",
       "9   https://www.yelp.com/biz/olympia-pizza-and-spa...           296   \n",
       "10  https://www.yelp.com/biz/k%C5%8Dbo-pizza-seatt...            31   \n",
       "11  https://www.yelp.com/biz/aglio-e-olio-seattle?...           272   \n",
       "12  https://www.yelp.com/biz/via-tribunali-capitol...           627   \n",
       "13  https://www.yelp.com/biz/ian-s-pizza-on-the-hi...           297   \n",
       "14  https://www.yelp.com/biz/pagliacci-pizza-seatt...            98   \n",
       "15  https://www.yelp.com/biz/dinos-tomato-pie-seat...           305   \n",
       "16  https://www.yelp.com/biz/roccos-seattle?adjust...          1741   \n",
       "17  https://www.yelp.com/biz/serious-pie-downtown-...          4475   \n",
       "18  https://www.yelp.com/biz/italian-family-pizza-...           999   \n",
       "19  https://www.yelp.com/biz/big-marios-new-york-s...           629   \n",
       "\n",
       "                                           categories  rating  \\\n",
       "0              [{'alias': 'pizza', 'title': 'Pizza'}]     4.0   \n",
       "1   [{'alias': 'pizza', 'title': 'Pizza'}, {'alias...     5.0   \n",
       "2   [{'alias': 'pizza', 'title': 'Pizza'}, {'alias...     4.5   \n",
       "3              [{'alias': 'pizza', 'title': 'Pizza'}]     4.5   \n",
       "4   [{'alias': 'pizza', 'title': 'Pizza'}, {'alias...     4.5   \n",
       "5              [{'alias': 'pizza', 'title': 'Pizza'}]     4.0   \n",
       "6   [{'alias': 'bars', 'title': 'Bars'}, {'alias':...     4.5   \n",
       "7   [{'alias': 'bars', 'title': 'Bars'}, {'alias':...     4.0   \n",
       "8   [{'alias': 'pizza', 'title': 'Pizza'}, {'alias...     4.0   \n",
       "9   [{'alias': 'pizza', 'title': 'Pizza'}, {'alias...     4.0   \n",
       "10             [{'alias': 'pizza', 'title': 'Pizza'}]     4.0   \n",
       "11  [{'alias': 'italian', 'title': 'Italian'}, {'a...     4.5   \n",
       "12  [{'alias': 'pizza', 'title': 'Pizza'}, {'alias...     4.0   \n",
       "13  [{'alias': 'pizza', 'title': 'Pizza'}, {'alias...     4.0   \n",
       "14             [{'alias': 'pizza', 'title': 'Pizza'}]     3.5   \n",
       "15  [{'alias': 'pizza', 'title': 'Pizza'}, {'alias...     3.5   \n",
       "16  [{'alias': 'bars', 'title': 'Bars'}, {'alias':...     4.0   \n",
       "17  [{'alias': 'pizza', 'title': 'Pizza'}, {'alias...     4.0   \n",
       "18  [{'alias': 'pizza', 'title': 'Pizza'}, {'alias...     4.0   \n",
       "19             [{'alias': 'pizza', 'title': 'Pizza'}]     3.5   \n",
       "\n",
       "                                          coordinates        transactions  \\\n",
       "0   {'latitude': 47.615379179632, 'longitude': -12...          [delivery]   \n",
       "1   {'latitude': 47.608127, 'longitude': -122.302435}                  []   \n",
       "2   {'latitude': 47.624577, 'longitude': -122.325577}  [delivery, pickup]   \n",
       "3     {'latitude': 47.61849, 'longitude': -122.31664}                  []   \n",
       "4     {'latitude': 47.56207, 'longitude': -122.38509}          [delivery]   \n",
       "5   {'latitude': 47.5976491915013, 'longitude': -1...          [delivery]   \n",
       "6   {'latitude': 47.6146934, 'longitude': -122.312...  [delivery, pickup]   \n",
       "7   {'latitude': 47.598976, 'longitude': -122.294685}  [pickup, delivery]   \n",
       "8   {'latitude': 47.636044, 'longitude': -122.277377}          [delivery]   \n",
       "9    {'latitude': 47.62383, 'longitude': -122.312445}          [delivery]   \n",
       "10     {'latitude': 47.6144, 'longitude': -122.32271}                  []   \n",
       "11  {'latitude': 47.62328027309258, 'longitude': -...          [delivery]   \n",
       "12    {'latitude': 47.61386, 'longitude': -122.31986}  [delivery, pickup]   \n",
       "13  {'latitude': 47.615894, 'longitude': -122.320476}  [pickup, delivery]   \n",
       "14  {'latitude': 47.6254949, 'longitude': -122.292...          [delivery]   \n",
       "15    {'latitude': 47.61839, 'longitude': -122.32593}  [pickup, delivery]   \n",
       "16  {'latitude': 47.614470434736106, 'longitude': ...  [delivery, pickup]   \n",
       "17  {'latitude': 47.61304626911818, 'longitude': -...  [delivery, pickup]   \n",
       "18    {'latitude': 47.60937, 'longitude': -122.32546}  [delivery, pickup]   \n",
       "19    {'latitude': 47.61376, 'longitude': -122.31886}  [pickup, delivery]   \n",
       "\n",
       "   price                                           location         phone  \\\n",
       "0      $  {'address1': '700 E Pine St', 'address2': '', ...  +12063226444   \n",
       "1    NaN  {'address1': '2300 E Cherry St', 'address2': '...                 \n",
       "2    NaN  {'address1': '601 Summit Ave E', 'address2': '...                 \n",
       "3    NaN  {'address1': '1830 12th Ave', 'address2': '', ...  +12064031809   \n",
       "4     $$  {'address1': '4526 42nd Ave SW', 'address2': '...  +12064208880   \n",
       "5     $$  {'address1': '525 Rainier Ave S', 'address2': ...  +12063295133   \n",
       "6     $$  {'address1': '1546 15th Ave', 'address2': '', ...  +12068388081   \n",
       "7     $$  {'address1': '2901 S Jackson St', 'address2': ...  +12066026333   \n",
       "8     $$  {'address1': '4235 E Madison St', 'address2': ...  +12068606110   \n",
       "9     $$  {'address1': '516 15th Ave E', 'address2': '',...  +12063294500   \n",
       "10   NaN  {'address1': '714 E Pike St', 'address2': None...  +12536930207   \n",
       "11    $$  {'address1': '2743 E Madison St', 'address2': ...                 \n",
       "12    $$  {'address1': '913 E Pike St', 'address2': '', ...  +12063229234   \n",
       "13     $  {'address1': '1620 Broadway', 'address2': '', ...  +12066594721   \n",
       "14    $$  {'address1': '3015 E Madison St', 'address2': ...  +12067261717   \n",
       "15    $$  {'address1': '1524 E Olive Way', 'address2': N...  +12064031742   \n",
       "16    $$  {'address1': '2312 2nd Ave', 'address2': '', '...  +12063974210   \n",
       "17    $$  {'address1': '2001 4th Ave', 'address2': None,...  +12068387388   \n",
       "18    $$  {'address1': '1028 Madison St', 'address2': No...  +12065380040   \n",
       "19     $  {'address1': '1009 E Pike St', 'address2': '',...  +12069223875   \n",
       "\n",
       "     display_phone     distance  \n",
       "0   (206) 322-6444  2080.359405  \n",
       "1                    749.173113  \n",
       "2                   2578.701393  \n",
       "3   (206) 403-1809  1686.862176  \n",
       "4   (206) 420-8880  8784.075722  \n",
       "5   (206) 329-5133  2166.834011  \n",
       "6   (206) 838-8081  1292.526796  \n",
       "7   (206) 602-6333  1571.867438  \n",
       "8   (206) 860-6110  2897.252844  \n",
       "9   (206) 329-4500  1732.874383  \n",
       "10  (253) 693-0207  2025.139396  \n",
       "11                  1132.743207  \n",
       "12  (206) 322-9234  1818.629179  \n",
       "13  (206) 659-4721  1884.178031  \n",
       "14  (206) 726-1717  1395.266332  \n",
       "15  (206) 403-1742  2349.272428  \n",
       "16  (206) 397-4210  3779.508800  \n",
       "17  (206) 838-7388  3348.309276  \n",
       "18  (206) 538-0040  2271.307105  \n",
       "19  (206) 922-3875  1732.560519  "
      ]
     },
     "execution_count": 34,
     "metadata": {},
     "output_type": "execute_result"
    }
   ],
   "source": [
    "pd.DataFrame(results['businesses'])"
   ]
  },
  {
   "cell_type": "markdown",
   "metadata": {},
   "source": [
    "- Where is the actual data we want to save?"
   ]
  },
  {
   "cell_type": "code",
   "execution_count": 35,
   "metadata": {},
   "outputs": [
    {
     "data": {
      "text/plain": [
       "20"
      ]
     },
     "execution_count": 35,
     "metadata": {},
     "output_type": "execute_result"
    }
   ],
   "source": [
    "## How many did we get the details for?\n",
    "results_per_page = len(results['businesses'])\n",
    "results_per_page"
   ]
  },
  {
   "cell_type": "markdown",
   "metadata": {},
   "source": [
    "- Calculate how many pages of results needed to cover the total_results"
   ]
  },
  {
   "cell_type": "code",
   "execution_count": 37,
   "metadata": {},
   "outputs": [
    {
     "data": {
      "text/plain": [
       "43"
      ]
     },
     "execution_count": 37,
     "metadata": {},
     "output_type": "execute_result"
    }
   ],
   "source": [
    "# Use math.ceil to round up for the total number of pages of results.\n",
    "import time, math\n",
    "n_pages = math.ceil((results['total'])/ results_per_page)\n",
    "n_pages\n"
   ]
  },
  {
   "cell_type": "code",
   "execution_count": 48,
   "metadata": {},
   "outputs": [
    {
     "data": {
      "application/vnd.jupyter.widget-view+json": {
       "model_id": "6b91c6e32d484539b977a48abfa38047",
       "version_major": 2,
       "version_minor": 0
      },
      "text/plain": [
       "  0%|          | 0/43 [00:00<?, ?it/s]"
      ]
     },
     "metadata": {},
     "output_type": "display_data"
    }
   ],
   "source": [
    "for i in tqdm_notebook( range(1,n_pages+1)):\n",
    "    try:\n",
    "        time.sleep(.2)\n",
    "        ## Read in results in progress file and check the length\n",
    "        with open(JSON_FILE, 'r') as f:\n",
    "            previous_results = json.load(f)\n",
    "        ## save number of results for to use as offset\n",
    "        n_results = len(previous_results)\n",
    "        \n",
    "           \n",
    "        ## use n_results as the OFFSET \n",
    "        results = yelp_api.search_query(location=location,\n",
    "                                    term=term, \n",
    "                                    offset=n_results)\n",
    "        \n",
    "        ## append new results and save to file\n",
    "        previous_results.extend(results['businesses'])\n",
    "        \n",
    "        # display(previous_results)\n",
    "        with open(JSON_FILE,'w') as f:\n",
    "            json.dump(previous_results,f)\n",
    "        \n",
    "        # what to do if we got an error/exception\n",
    "        #except Exception as e:\n",
    "\n",
    "    except Exception as e:\n",
    "        print(f'error: ', e)\n",
    "\n",
    "\n"
   ]
  },
  {
   "cell_type": "markdown",
   "metadata": {},
   "source": [
    "## Open the Final JSON File with Pandas"
   ]
  },
  {
   "cell_type": "code",
   "execution_count": 49,
   "metadata": {},
   "outputs": [
    {
     "data": {
      "text/html": [
       "<div>\n",
       "<style scoped>\n",
       "    .dataframe tbody tr th:only-of-type {\n",
       "        vertical-align: middle;\n",
       "    }\n",
       "\n",
       "    .dataframe tbody tr th {\n",
       "        vertical-align: top;\n",
       "    }\n",
       "\n",
       "    .dataframe thead th {\n",
       "        text-align: right;\n",
       "    }\n",
       "</style>\n",
       "<table border=\"1\" class=\"dataframe\">\n",
       "  <thead>\n",
       "    <tr style=\"text-align: right;\">\n",
       "      <th></th>\n",
       "      <th>id</th>\n",
       "      <th>alias</th>\n",
       "      <th>name</th>\n",
       "      <th>image_url</th>\n",
       "      <th>is_closed</th>\n",
       "      <th>url</th>\n",
       "      <th>review_count</th>\n",
       "      <th>categories</th>\n",
       "      <th>rating</th>\n",
       "      <th>coordinates</th>\n",
       "      <th>transactions</th>\n",
       "      <th>price</th>\n",
       "      <th>location</th>\n",
       "      <th>phone</th>\n",
       "      <th>display_phone</th>\n",
       "      <th>distance</th>\n",
       "    </tr>\n",
       "  </thead>\n",
       "  <tbody>\n",
       "    <tr>\n",
       "      <th>0</th>\n",
       "      <td>M9xzvwgK58T0w7wvXedvuQ</td>\n",
       "      <td>hot-mamas-pizza-seattle</td>\n",
       "      <td>Hot Mama's Pizza</td>\n",
       "      <td>https://s3-media4.fl.yelpcdn.com/bphoto/LEL1qj...</td>\n",
       "      <td>False</td>\n",
       "      <td>https://www.yelp.com/biz/hot-mamas-pizza-seatt...</td>\n",
       "      <td>960</td>\n",
       "      <td>[{'alias': 'pizza', 'title': 'Pizza'}]</td>\n",
       "      <td>4.0</td>\n",
       "      <td>{'latitude': 47.615379179632, 'longitude': -12...</td>\n",
       "      <td>[delivery]</td>\n",
       "      <td>$</td>\n",
       "      <td>{'address1': '700 E Pine St', 'address2': '', ...</td>\n",
       "      <td>+12063226444</td>\n",
       "      <td>(206) 322-6444</td>\n",
       "      <td>2080.359405</td>\n",
       "    </tr>\n",
       "    <tr>\n",
       "      <th>1</th>\n",
       "      <td>t-Z9bvmlgUyDtomGmttrUQ</td>\n",
       "      <td>guerilla-pizza-kitchen-seattle</td>\n",
       "      <td>Guerilla Pizza Kitchen</td>\n",
       "      <td>https://s3-media4.fl.yelpcdn.com/bphoto/uMrdEj...</td>\n",
       "      <td>False</td>\n",
       "      <td>https://www.yelp.com/biz/guerilla-pizza-kitche...</td>\n",
       "      <td>1</td>\n",
       "      <td>[{'alias': 'pizza', 'title': 'Pizza'}, {'alias...</td>\n",
       "      <td>5.0</td>\n",
       "      <td>{'latitude': 47.608127, 'longitude': -122.302435}</td>\n",
       "      <td>[]</td>\n",
       "      <td>NaN</td>\n",
       "      <td>{'address1': '2300 E Cherry St', 'address2': '...</td>\n",
       "      <td></td>\n",
       "      <td></td>\n",
       "      <td>749.173113</td>\n",
       "    </tr>\n",
       "    <tr>\n",
       "      <th>2</th>\n",
       "      <td>EwrAoy7XbX8nfemZdDvupA</td>\n",
       "      <td>cornelly-seattle</td>\n",
       "      <td>Cornelly</td>\n",
       "      <td>https://s3-media4.fl.yelpcdn.com/bphoto/HlYYBT...</td>\n",
       "      <td>False</td>\n",
       "      <td>https://www.yelp.com/biz/cornelly-seattle?adju...</td>\n",
       "      <td>99</td>\n",
       "      <td>[{'alias': 'pizza', 'title': 'Pizza'}, {'alias...</td>\n",
       "      <td>4.5</td>\n",
       "      <td>{'latitude': 47.624577, 'longitude': -122.325577}</td>\n",
       "      <td>[delivery, pickup]</td>\n",
       "      <td>NaN</td>\n",
       "      <td>{'address1': '601 Summit Ave E', 'address2': '...</td>\n",
       "      <td></td>\n",
       "      <td></td>\n",
       "      <td>2578.701393</td>\n",
       "    </tr>\n",
       "    <tr>\n",
       "      <th>3</th>\n",
       "      <td>FVbwpNA1uZEGiM02N4XtUg</td>\n",
       "      <td>blotto-seattle</td>\n",
       "      <td>Blotto</td>\n",
       "      <td>https://s3-media3.fl.yelpcdn.com/bphoto/Q4Y1Cw...</td>\n",
       "      <td>False</td>\n",
       "      <td>https://www.yelp.com/biz/blotto-seattle?adjust...</td>\n",
       "      <td>40</td>\n",
       "      <td>[{'alias': 'pizza', 'title': 'Pizza'}]</td>\n",
       "      <td>4.5</td>\n",
       "      <td>{'latitude': 47.61849, 'longitude': -122.31664}</td>\n",
       "      <td>[]</td>\n",
       "      <td>NaN</td>\n",
       "      <td>{'address1': '1830 12th Ave', 'address2': '', ...</td>\n",
       "      <td>+12064031809</td>\n",
       "      <td>(206) 403-1809</td>\n",
       "      <td>1686.862176</td>\n",
       "    </tr>\n",
       "    <tr>\n",
       "      <th>4</th>\n",
       "      <td>IrohtoYjnAR_vc6w6CRCxA</td>\n",
       "      <td>moto-seattle</td>\n",
       "      <td>Moto</td>\n",
       "      <td>https://s3-media2.fl.yelpcdn.com/bphoto/FBmvjy...</td>\n",
       "      <td>False</td>\n",
       "      <td>https://www.yelp.com/biz/moto-seattle?adjust_c...</td>\n",
       "      <td>137</td>\n",
       "      <td>[{'alias': 'pizza', 'title': 'Pizza'}, {'alias...</td>\n",
       "      <td>4.5</td>\n",
       "      <td>{'latitude': 47.56207, 'longitude': -122.38509}</td>\n",
       "      <td>[delivery]</td>\n",
       "      <td>$$</td>\n",
       "      <td>{'address1': '4526 42nd Ave SW', 'address2': '...</td>\n",
       "      <td>+12064208880</td>\n",
       "      <td>(206) 420-8880</td>\n",
       "      <td>8784.075722</td>\n",
       "    </tr>\n",
       "    <tr>\n",
       "      <th>...</th>\n",
       "      <td>...</td>\n",
       "      <td>...</td>\n",
       "      <td>...</td>\n",
       "      <td>...</td>\n",
       "      <td>...</td>\n",
       "      <td>...</td>\n",
       "      <td>...</td>\n",
       "      <td>...</td>\n",
       "      <td>...</td>\n",
       "      <td>...</td>\n",
       "      <td>...</td>\n",
       "      <td>...</td>\n",
       "      <td>...</td>\n",
       "      <td>...</td>\n",
       "      <td>...</td>\n",
       "      <td>...</td>\n",
       "    </tr>\n",
       "    <tr>\n",
       "      <th>854</th>\n",
       "      <td>rcDbUcs83gvoRxhaTmFfnQ</td>\n",
       "      <td>cypress-lounge-and-wine-bar-bellevue</td>\n",
       "      <td>Cypress Lounge &amp; Wine Bar</td>\n",
       "      <td>https://s3-media2.fl.yelpcdn.com/bphoto/DsFhIb...</td>\n",
       "      <td>False</td>\n",
       "      <td>https://www.yelp.com/biz/cypress-lounge-and-wi...</td>\n",
       "      <td>68</td>\n",
       "      <td>[{'alias': 'wine_bars', 'title': 'Wine Bars'},...</td>\n",
       "      <td>3.5</td>\n",
       "      <td>{'latitude': 47.6157033283809, 'longitude': -1...</td>\n",
       "      <td>[]</td>\n",
       "      <td>$$</td>\n",
       "      <td>{'address1': '600 Bellevue Way NE', 'address2'...</td>\n",
       "      <td>+14256381000</td>\n",
       "      <td>(425) 638-1000</td>\n",
       "      <td>7123.208902</td>\n",
       "    </tr>\n",
       "    <tr>\n",
       "      <th>855</th>\n",
       "      <td>AsgtzyqpdjuPyjaEUVcUXA</td>\n",
       "      <td>jewel-of-india-seattle-3</td>\n",
       "      <td>Jewel Of India</td>\n",
       "      <td>https://s3-media2.fl.yelpcdn.com/bphoto/qJGMnl...</td>\n",
       "      <td>False</td>\n",
       "      <td>https://www.yelp.com/biz/jewel-of-india-seattl...</td>\n",
       "      <td>410</td>\n",
       "      <td>[{'alias': 'indpak', 'title': 'Indian'}]</td>\n",
       "      <td>3.5</td>\n",
       "      <td>{'latitude': 47.66410298, 'longitude': -122.31...</td>\n",
       "      <td>[delivery, pickup]</td>\n",
       "      <td>$$</td>\n",
       "      <td>{'address1': '4735 University Way NE', 'addres...</td>\n",
       "      <td>+12065235275</td>\n",
       "      <td>(206) 523-5275</td>\n",
       "      <td>5825.461180</td>\n",
       "    </tr>\n",
       "    <tr>\n",
       "      <th>856</th>\n",
       "      <td>oniQ68t6VR1naVtUXmfETQ</td>\n",
       "      <td>pokeworks-bellevue-2</td>\n",
       "      <td>Pokeworks</td>\n",
       "      <td>https://s3-media1.fl.yelpcdn.com/bphoto/DqSOK8...</td>\n",
       "      <td>False</td>\n",
       "      <td>https://www.yelp.com/biz/pokeworks-bellevue-2?...</td>\n",
       "      <td>282</td>\n",
       "      <td>[{'alias': 'poke', 'title': 'Poke'}, {'alias':...</td>\n",
       "      <td>4.0</td>\n",
       "      <td>{'latitude': 47.61252119845868, 'longitude': -...</td>\n",
       "      <td>[pickup, delivery]</td>\n",
       "      <td>$$</td>\n",
       "      <td>{'address1': '222 Bellevue Way NE', 'address2'...</td>\n",
       "      <td>+14252141182</td>\n",
       "      <td>(425) 214-1182</td>\n",
       "      <td>7072.982860</td>\n",
       "    </tr>\n",
       "    <tr>\n",
       "      <th>857</th>\n",
       "      <td>8S3qU0TGMJDyj4KHBmxlaw</td>\n",
       "      <td>pho-tai-kirkland</td>\n",
       "      <td>Pho Tai</td>\n",
       "      <td>https://s3-media3.fl.yelpcdn.com/bphoto/tnvGkA...</td>\n",
       "      <td>False</td>\n",
       "      <td>https://www.yelp.com/biz/pho-tai-kirkland?adju...</td>\n",
       "      <td>199</td>\n",
       "      <td>[{'alias': 'vietnamese', 'title': 'Vietnamese'...</td>\n",
       "      <td>3.5</td>\n",
       "      <td>{'latitude': 47.676215, 'longitude': -122.205084}</td>\n",
       "      <td>[pickup, delivery]</td>\n",
       "      <td>$$</td>\n",
       "      <td>{'address1': '147 Park Ln', 'address2': '', 'a...</td>\n",
       "      <td>+14255765407</td>\n",
       "      <td>(425) 576-5407</td>\n",
       "      <td>9765.353049</td>\n",
       "    </tr>\n",
       "    <tr>\n",
       "      <th>858</th>\n",
       "      <td>i8mygke4ckycOudTO_3UQQ</td>\n",
       "      <td>café-cesura-bellevue-4</td>\n",
       "      <td>Café Cesura</td>\n",
       "      <td>https://s3-media4.fl.yelpcdn.com/bphoto/uEiPxA...</td>\n",
       "      <td>False</td>\n",
       "      <td>https://www.yelp.com/biz/caf%C3%A9-cesura-bell...</td>\n",
       "      <td>551</td>\n",
       "      <td>[{'alias': 'coffee', 'title': 'Coffee &amp; Tea'},...</td>\n",
       "      <td>3.5</td>\n",
       "      <td>{'latitude': 47.6196463475606, 'longitude': -1...</td>\n",
       "      <td>[delivery]</td>\n",
       "      <td>$</td>\n",
       "      <td>{'address1': '1015 108th Ave NE', 'address2': ...</td>\n",
       "      <td>+14259547277</td>\n",
       "      <td>(425) 954-7277</td>\n",
       "      <td>7466.233853</td>\n",
       "    </tr>\n",
       "  </tbody>\n",
       "</table>\n",
       "<p>859 rows × 16 columns</p>\n",
       "</div>"
      ],
      "text/plain": [
       "                         id                                 alias  \\\n",
       "0    M9xzvwgK58T0w7wvXedvuQ               hot-mamas-pizza-seattle   \n",
       "1    t-Z9bvmlgUyDtomGmttrUQ        guerilla-pizza-kitchen-seattle   \n",
       "2    EwrAoy7XbX8nfemZdDvupA                      cornelly-seattle   \n",
       "3    FVbwpNA1uZEGiM02N4XtUg                        blotto-seattle   \n",
       "4    IrohtoYjnAR_vc6w6CRCxA                          moto-seattle   \n",
       "..                      ...                                   ...   \n",
       "854  rcDbUcs83gvoRxhaTmFfnQ  cypress-lounge-and-wine-bar-bellevue   \n",
       "855  AsgtzyqpdjuPyjaEUVcUXA              jewel-of-india-seattle-3   \n",
       "856  oniQ68t6VR1naVtUXmfETQ                  pokeworks-bellevue-2   \n",
       "857  8S3qU0TGMJDyj4KHBmxlaw                      pho-tai-kirkland   \n",
       "858  i8mygke4ckycOudTO_3UQQ                café-cesura-bellevue-4   \n",
       "\n",
       "                          name  \\\n",
       "0             Hot Mama's Pizza   \n",
       "1       Guerilla Pizza Kitchen   \n",
       "2                     Cornelly   \n",
       "3                       Blotto   \n",
       "4                         Moto   \n",
       "..                         ...   \n",
       "854  Cypress Lounge & Wine Bar   \n",
       "855             Jewel Of India   \n",
       "856                  Pokeworks   \n",
       "857                    Pho Tai   \n",
       "858                Café Cesura   \n",
       "\n",
       "                                             image_url  is_closed  \\\n",
       "0    https://s3-media4.fl.yelpcdn.com/bphoto/LEL1qj...      False   \n",
       "1    https://s3-media4.fl.yelpcdn.com/bphoto/uMrdEj...      False   \n",
       "2    https://s3-media4.fl.yelpcdn.com/bphoto/HlYYBT...      False   \n",
       "3    https://s3-media3.fl.yelpcdn.com/bphoto/Q4Y1Cw...      False   \n",
       "4    https://s3-media2.fl.yelpcdn.com/bphoto/FBmvjy...      False   \n",
       "..                                                 ...        ...   \n",
       "854  https://s3-media2.fl.yelpcdn.com/bphoto/DsFhIb...      False   \n",
       "855  https://s3-media2.fl.yelpcdn.com/bphoto/qJGMnl...      False   \n",
       "856  https://s3-media1.fl.yelpcdn.com/bphoto/DqSOK8...      False   \n",
       "857  https://s3-media3.fl.yelpcdn.com/bphoto/tnvGkA...      False   \n",
       "858  https://s3-media4.fl.yelpcdn.com/bphoto/uEiPxA...      False   \n",
       "\n",
       "                                                   url  review_count  \\\n",
       "0    https://www.yelp.com/biz/hot-mamas-pizza-seatt...           960   \n",
       "1    https://www.yelp.com/biz/guerilla-pizza-kitche...             1   \n",
       "2    https://www.yelp.com/biz/cornelly-seattle?adju...            99   \n",
       "3    https://www.yelp.com/biz/blotto-seattle?adjust...            40   \n",
       "4    https://www.yelp.com/biz/moto-seattle?adjust_c...           137   \n",
       "..                                                 ...           ...   \n",
       "854  https://www.yelp.com/biz/cypress-lounge-and-wi...            68   \n",
       "855  https://www.yelp.com/biz/jewel-of-india-seattl...           410   \n",
       "856  https://www.yelp.com/biz/pokeworks-bellevue-2?...           282   \n",
       "857  https://www.yelp.com/biz/pho-tai-kirkland?adju...           199   \n",
       "858  https://www.yelp.com/biz/caf%C3%A9-cesura-bell...           551   \n",
       "\n",
       "                                            categories  rating  \\\n",
       "0               [{'alias': 'pizza', 'title': 'Pizza'}]     4.0   \n",
       "1    [{'alias': 'pizza', 'title': 'Pizza'}, {'alias...     5.0   \n",
       "2    [{'alias': 'pizza', 'title': 'Pizza'}, {'alias...     4.5   \n",
       "3               [{'alias': 'pizza', 'title': 'Pizza'}]     4.5   \n",
       "4    [{'alias': 'pizza', 'title': 'Pizza'}, {'alias...     4.5   \n",
       "..                                                 ...     ...   \n",
       "854  [{'alias': 'wine_bars', 'title': 'Wine Bars'},...     3.5   \n",
       "855           [{'alias': 'indpak', 'title': 'Indian'}]     3.5   \n",
       "856  [{'alias': 'poke', 'title': 'Poke'}, {'alias':...     4.0   \n",
       "857  [{'alias': 'vietnamese', 'title': 'Vietnamese'...     3.5   \n",
       "858  [{'alias': 'coffee', 'title': 'Coffee & Tea'},...     3.5   \n",
       "\n",
       "                                           coordinates        transactions  \\\n",
       "0    {'latitude': 47.615379179632, 'longitude': -12...          [delivery]   \n",
       "1    {'latitude': 47.608127, 'longitude': -122.302435}                  []   \n",
       "2    {'latitude': 47.624577, 'longitude': -122.325577}  [delivery, pickup]   \n",
       "3      {'latitude': 47.61849, 'longitude': -122.31664}                  []   \n",
       "4      {'latitude': 47.56207, 'longitude': -122.38509}          [delivery]   \n",
       "..                                                 ...                 ...   \n",
       "854  {'latitude': 47.6157033283809, 'longitude': -1...                  []   \n",
       "855  {'latitude': 47.66410298, 'longitude': -122.31...  [delivery, pickup]   \n",
       "856  {'latitude': 47.61252119845868, 'longitude': -...  [pickup, delivery]   \n",
       "857  {'latitude': 47.676215, 'longitude': -122.205084}  [pickup, delivery]   \n",
       "858  {'latitude': 47.6196463475606, 'longitude': -1...          [delivery]   \n",
       "\n",
       "    price                                           location         phone  \\\n",
       "0       $  {'address1': '700 E Pine St', 'address2': '', ...  +12063226444   \n",
       "1     NaN  {'address1': '2300 E Cherry St', 'address2': '...                 \n",
       "2     NaN  {'address1': '601 Summit Ave E', 'address2': '...                 \n",
       "3     NaN  {'address1': '1830 12th Ave', 'address2': '', ...  +12064031809   \n",
       "4      $$  {'address1': '4526 42nd Ave SW', 'address2': '...  +12064208880   \n",
       "..    ...                                                ...           ...   \n",
       "854    $$  {'address1': '600 Bellevue Way NE', 'address2'...  +14256381000   \n",
       "855    $$  {'address1': '4735 University Way NE', 'addres...  +12065235275   \n",
       "856    $$  {'address1': '222 Bellevue Way NE', 'address2'...  +14252141182   \n",
       "857    $$  {'address1': '147 Park Ln', 'address2': '', 'a...  +14255765407   \n",
       "858     $  {'address1': '1015 108th Ave NE', 'address2': ...  +14259547277   \n",
       "\n",
       "      display_phone     distance  \n",
       "0    (206) 322-6444  2080.359405  \n",
       "1                     749.173113  \n",
       "2                    2578.701393  \n",
       "3    (206) 403-1809  1686.862176  \n",
       "4    (206) 420-8880  8784.075722  \n",
       "..              ...          ...  \n",
       "854  (425) 638-1000  7123.208902  \n",
       "855  (206) 523-5275  5825.461180  \n",
       "856  (425) 214-1182  7072.982860  \n",
       "857  (425) 576-5407  9765.353049  \n",
       "858  (425) 954-7277  7466.233853  \n",
       "\n",
       "[859 rows x 16 columns]"
      ]
     },
     "execution_count": 49,
     "metadata": {},
     "output_type": "execute_result"
    }
   ],
   "source": [
    "df = pd.read_json(JSON_FILE)\n",
    "df"
   ]
  },
  {
   "cell_type": "code",
   "execution_count": 50,
   "metadata": {},
   "outputs": [
    {
     "data": {
      "text/plain": [
       "'Data/Seattle - pizza.csv.gz'"
      ]
     },
     "execution_count": 50,
     "metadata": {},
     "output_type": "execute_result"
    }
   ],
   "source": [
    "## convert the filename to a .csv.gz\n",
    "csv_file = JSON_FILE.replace('.json','.csv.gz')\n",
    "csv_file"
   ]
  },
  {
   "cell_type": "code",
   "execution_count": 51,
   "metadata": {},
   "outputs": [],
   "source": [
    "## Save it as a compressed csv (to save space)\n",
    "df.to_csv(csv_file, compression='gzip',index=False )"
   ]
  },
  {
   "cell_type": "markdown",
   "metadata": {},
   "source": [
    "## Bonus: compare filesize with os module's `os.path.getsize`"
   ]
  },
  {
   "cell_type": "code",
   "execution_count": 52,
   "metadata": {},
   "outputs": [
    {
     "name": "stdout",
     "output_type": "stream",
     "text": [
      "JSON FILE: 838,751 Bytes\n",
      "CSV.GZ FILE: 121,472 Bytes\n",
      "the csv.gz is 6.90489166227608 times smaller!\n"
     ]
    }
   ],
   "source": [
    "size_json = os.path.getsize(JSON_FILE)\n",
    "size_csv_gz = os.path.getsize(JSON_FILE.replace('.json','.csv.gz'))\n",
    "\n",
    "print(f'JSON FILE: {size_json:,} Bytes')\n",
    "print(f'CSV.GZ FILE: {size_csv_gz:,} Bytes')\n",
    "\n",
    "print(f'the csv.gz is {size_json/size_csv_gz} times smaller!')"
   ]
  },
  {
   "cell_type": "markdown",
   "metadata": {},
   "source": [
    "## Next Class: Processing the Results and Mapping "
   ]
  }
 ],
 "metadata": {
  "colab": {
   "collapsed_sections": [],
   "name": "Test Yelp API Package.ipynb",
   "provenance": []
  },
  "kernelspec": {
   "display_name": "Python (dojo-env)",
   "language": "python",
   "name": "dojo-env"
  },
  "language_info": {
   "codemirror_mode": {
    "name": "ipython",
    "version": 3
   },
   "file_extension": ".py",
   "mimetype": "text/x-python",
   "name": "python",
   "nbconvert_exporter": "python",
   "pygments_lexer": "ipython3",
   "version": "3.9.15"
  },
  "toc": {
   "base_numbering": 1,
   "nav_menu": {},
   "number_sections": false,
   "sideBar": true,
   "skip_h1_title": false,
   "title_cell": "Table of Contents",
   "title_sidebar": "Contents",
   "toc_cell": false,
   "toc_position": {},
   "toc_section_display": true,
   "toc_window_display": true
  }
 },
 "nbformat": 4,
 "nbformat_minor": 1
}
